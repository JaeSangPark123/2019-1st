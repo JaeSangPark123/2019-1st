{
  "nbformat": 4,
  "nbformat_minor": 0,
  "metadata": {
    "colab": {
      "name": "p4.ipynb",
      "version": "0.3.2",
      "provenance": [],
      "collapsed_sections": []
    },
    "kernelspec": {
      "name": "python3",
      "display_name": "Python 3"
    }
  },
  "cells": [
    {
      "cell_type": "code",
      "metadata": {
        "id": "Ay_htp7f9Qk0",
        "colab_type": "code",
        "outputId": "28c89e8f-78af-4fde-a57f-aff3f2cf7ae4",
        "colab": {
          "base_uri": "https://localhost:8080/",
          "height": 409
        }
      },
      "source": [
        "from random import *\n",
        "import numpy as np\n",
        "\n",
        "num = int(input())  #get size from user\n",
        "k=0\n",
        "l=0\n",
        "arr = np.random.random((num,num))  # make num X num random array\n",
        "arr2 = np.zeros((int(num/2),int(num/2))) # make half size of precious random array and initialize the element zero\n",
        "for i in range(1,num,2): \n",
        "  for j in range(1,num,2): # to find max value in 2X2 array, use double for loop and make steps 2\n",
        "    max = 0\n",
        "    for k in range(0,2):\n",
        "      for p in range(0,2):  # find max value in 2x2 array\n",
        "        if arr[i-k][j-p]>max:\n",
        "          max = arr[i-k][j-p]\n",
        "    arr2[int(i/2)][int(j/2)]=max  #and assign the max value to proper position of zero array\n",
        "print(arr)\n",
        "print(arr2)\n"
      ],
      "execution_count": 13,
      "outputs": [
        {
          "output_type": "stream",
          "text": [
            "8\n",
            "[[0.27737439 0.27111636 0.55256784 0.03123764 0.08903282 0.2492061\n",
            "  0.48422666 0.12586598]\n",
            " [0.89345858 0.89278281 0.91076802 0.60999214 0.78076655 0.78360301\n",
            "  0.02658402 0.38217945]\n",
            " [0.31080248 0.29656001 0.10094422 0.67587536 0.74599088 0.60738643\n",
            "  0.79194919 0.27223085]\n",
            " [0.06289745 0.60090927 0.76576821 0.10032027 0.60246777 0.32726774\n",
            "  0.79934332 0.88967322]\n",
            " [0.66653111 0.75433477 0.41183213 0.70087412 0.56173744 0.4912609\n",
            "  0.43822826 0.46029431]\n",
            " [0.0515564  0.33711286 0.16062685 0.70661055 0.55164049 0.75706079\n",
            "  0.50321283 0.01798308]\n",
            " [0.99132753 0.70087954 0.56604949 0.23683143 0.41487692 0.80894321\n",
            "  0.06035897 0.44491336]\n",
            " [0.94003038 0.84478484 0.22048488 0.0456004  0.40488532 0.157754\n",
            "  0.1888768  0.87419512]]\n",
            "[[0.89345858 0.91076802 0.78360301 0.48422666]\n",
            " [0.60090927 0.76576821 0.74599088 0.88967322]\n",
            " [0.75433477 0.70661055 0.75706079 0.50321283]\n",
            " [0.99132753 0.56604949 0.80894321 0.87419512]]\n"
          ],
          "name": "stdout"
        }
      ]
    },
    {
      "cell_type": "code",
      "metadata": {
        "id": "fHoFnYat6rZ-",
        "colab_type": "code",
        "colab": {}
      },
      "source": [
        ""
      ],
      "execution_count": 0,
      "outputs": []
    }
  ]
}