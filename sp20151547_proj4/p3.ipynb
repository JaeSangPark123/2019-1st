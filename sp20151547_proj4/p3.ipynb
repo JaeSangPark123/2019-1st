{
  "nbformat": 4,
  "nbformat_minor": 0,
  "metadata": {
    "colab": {
      "name": "p3.ipynb",
      "version": "0.3.2",
      "provenance": [],
      "collapsed_sections": []
    },
    "kernelspec": {
      "name": "python3",
      "display_name": "Python 3"
    }
  },
  "cells": [
    {
      "cell_type": "code",
      "metadata": {
        "id": "hfqlH5uh5jsd",
        "colab_type": "code",
        "outputId": "c0f34e55-ddd6-4907-b3e0-6018c2db2797",
        "colab": {
          "base_uri": "https://localhost:8080/",
          "height": 55
        }
      },
      "source": [
        "A = []\n",
        "temp = input()\n",
        "A= temp.split()\n",
        "min = int(float(A[0]))*int(float(A[0])) # initialize min value  why not 0 ?  because the abs sum of two should be equal or greater than 0... so output must be 0 if initial value is 0\n",
        "for i in range(len(A)):\n",
        "  for j in range(i,len(A)): # check every pair of two element\n",
        "    t= int(A[i])+int(A[j])\n",
        "    if t<0: # if sum is negative\n",
        "      t*=-1 # than multiple -1 to make it abs sum\n",
        "    if t<=min: #if the sum is smaller than min\n",
        "      min=t  #then change the min\n",
        "print(min) "
      ],
      "execution_count": 0,
      "outputs": [
        {
          "output_type": "stream",
          "text": [
            "-8 4 5 -10 3\n",
            "3\n"
          ],
          "name": "stdout"
        }
      ]
    }
  ]
}