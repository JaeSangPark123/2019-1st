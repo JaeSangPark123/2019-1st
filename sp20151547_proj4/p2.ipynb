{
  "nbformat": 4,
  "nbformat_minor": 0,
  "metadata": {
    "colab": {
      "name": "p2.ipynb",
      "version": "0.3.2",
      "provenance": [],
      "collapsed_sections": []
    },
    "kernelspec": {
      "name": "python3",
      "display_name": "Python 3"
    }
  },
  "cells": [
    {
      "cell_type": "code",
      "metadata": {
        "id": "Y1DErRm9zLZN",
        "colab_type": "code",
        "outputId": "7cf4afa6-9053-426e-b2f4-a1889128182e",
        "colab": {
          "base_uri": "https://localhost:8080/",
          "height": 73
        }
      },
      "source": [
        "A=[]\n",
        "B =[]\n",
        "num = 0\n",
        "primeA=set()\n",
        "primeB=set()\n",
        "temp = input()\n",
        "A= temp.split()\n",
        "temp = input()\n",
        "B= temp.split()\n",
        "for i in range(len(A)):\n",
        "  primeA.clear() #initialize prime divisors set for A\n",
        "  primeB.clear() #initialize prime divisors set for B\n",
        "  for j in range(2,int(A[i])+1): # because 1 could divide every integer and 1 is not prime number.  so except 1\n",
        "    if int(A[i])%j==0: #if j could divide A[i] then check  whether j is prime number\n",
        "      flag =1  \n",
        "      for k in range(1,j):\n",
        "        if j%k==0:\n",
        "          if k!=1:  #j is not prime number\n",
        "            flag=0\n",
        "      if flag==1: #j is prime number\n",
        "        primeA.add(j) #add j to prime divisors set for A\n",
        "  for j in range(2,int(B[i])+1):\n",
        "    if int(B[i])%j==0:\n",
        "      flag =1\n",
        "      for k in range(1,j):\n",
        "        if j%k==0:\n",
        "          if k!=1:\n",
        "            flag=0\n",
        "      if flag==1:\n",
        "          primeB.add(j)     #to do same thing for B\n",
        "  if primeA.issubset(primeB): # if A <=B\n",
        "    if primeB.issubset(primeA):# and then B<=A  then A = B\n",
        "      num+=1\n",
        "\n",
        "print(num)\n"
      ],
      "execution_count": 0,
      "outputs": [
        {
          "output_type": "stream",
          "text": [
            "2 4 8\n",
            "2 4 8\n",
            "3\n"
          ],
          "name": "stdout"
        }
      ]
    },
    {
      "cell_type": "code",
      "metadata": {
        "id": "wyTDconkEqek",
        "colab_type": "code",
        "colab": {}
      },
      "source": [
        ""
      ],
      "execution_count": 0,
      "outputs": []
    }
  ]
}