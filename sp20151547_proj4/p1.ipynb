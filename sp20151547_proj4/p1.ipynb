{
  "nbformat": 4,
  "nbformat_minor": 0,
  "metadata": {
    "colab": {
      "name": "p1.ipynb",
      "version": "0.3.2",
      "provenance": [],
      "collapsed_sections": []
    },
    "kernelspec": {
      "name": "python3",
      "display_name": "Python 3"
    }
  },
  "cells": [
    {
      "cell_type": "code",
      "metadata": {
        "id": "Y1DErRm9zLZN",
        "colab_type": "code",
        "outputId": "ff9e356f-5df7-4d9c-d9ab-48b1a9f6c00d",
        "colab": {
          "base_uri": "https://localhost:8080/",
          "height": 73
        }
      },
      "source": [
        "N = int(input()) # a = N\n",
        "b = input() # b = string\n",
        "A =b.split() # A = list of b\n",
        "c=[] # c = output list\n",
        "for i in range(N):\n",
        "  c.append(int(0)) #initialize c with 0\n",
        "for i in range(len(A)): \n",
        "  if int(float(A[i]))>N: # A[i]> N\n",
        "    max = 0\n",
        "    for j in range(N): # find max in c\n",
        "      if c[j]>max:\n",
        "        max = c[j]\n",
        "    for j in range(N): #initialize c with max\n",
        "      c[j]=max\n",
        "  else:\n",
        "    c[int(A[i])-1]+=1 # A[i]<=N --> c[A[i]-1] ++\n",
        "print(c) # print output"
      ],
      "execution_count": 0,
      "outputs": [
        {
          "output_type": "stream",
          "text": [
            "5\n",
            "3 1 4 4 6 2\n",
            "[2, 3, 2, 2, 2]\n"
          ],
          "name": "stdout"
        }
      ]
    }
  ]
}